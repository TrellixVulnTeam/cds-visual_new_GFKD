{
 "cells": [
  {
   "cell_type": "markdown",
   "metadata": {},
   "source": [
    "## Visual analysis of pictures "
   ]
  },
  {
   "cell_type": "markdown",
   "metadata": {},
   "source": [
    "Hanna Matera \n"
   ]
  },
  {
   "cell_type": "markdown",
   "metadata": {},
   "source": [
    "Write a Python script which does the following:\n",
    "\n",
    "For each image, find the width, height, and number of channels\n",
    "For each image, split image into four equal-sized quadrants (i.e. top-left, top-right, bottom-left, bottom-right)\n",
    "Save each of the split images in JPG format\n",
    "Create and save a file containing the filename, width, height for all of the new images.\n"
   ]
  },
  {
   "cell_type": "markdown",
   "metadata": {},
   "source": [
    "Importing necessary packages"
   ]
  },
  {
   "cell_type": "code",
   "execution_count": 139,
   "metadata": {},
   "outputs": [],
   "source": [
    "import os\n",
    "import numpy as np # creating an abbreviation to save keystrokes\n",
    "import pandas as pd\n",
    "import cv2\n",
    "import numpy as np\n",
    "import matplotlib as mpl\n",
    "import matplotlib.pyplot as plt\n",
    "from pathlib import Path"
   ]
  },
  {
   "cell_type": "markdown",
   "metadata": {},
   "source": [
    "Installing opencv manually (as I ran into issues)"
   ]
  },
  {
   "cell_type": "code",
   "execution_count": 140,
   "metadata": {},
   "outputs": [
    {
     "name": "stdout",
     "output_type": "stream",
     "text": [
      "Requirement already satisfied: opencv-python-headless in /opt/anaconda3/lib/python3.8/site-packages (4.5.1.48)\n",
      "Requirement already satisfied: numpy>=1.17.3 in /opt/anaconda3/lib/python3.8/site-packages (from opencv-python-headless) (1.18.5)\n",
      "Note: you may need to restart the kernel to use updated packages.\n"
     ]
    }
   ],
   "source": [
    "pip install opencv-python-headless"
   ]
  },
  {
   "cell_type": "markdown",
   "metadata": {},
   "source": [
    "\n",
    "Defining a data frame where the results go, specifying data path from which images are retrieved and a lits of images from the folder "
   ]
  },
  {
   "cell_type": "code",
   "execution_count": 141,
   "metadata": {},
   "outputs": [],
   "source": [
    "#data frame \n",
    "Columns = ['filename','width','height']           \n",
    "DATA = pd.DataFrame(columns = Columns)\n",
    "\n",
    "#filepath \n",
    "data_path = os.path.join(\"data_cat\",\"\")\n",
    "\n",
    "\n",
    "\n",
    "# define pandas with appropriate column names\n",
    "Columns = ['filename','width','height']           \n",
    "DATA = pd.DataFrame(columns = Columns)\n",
    "\n",
    "# Create a list of all filenames in the image folder.\n",
    "filelist = []\n",
    "basepath = Path(data_path)\n",
    "files_in_basepath = basepath.iterdir()\n",
    "for item in files_in_basepath:\n",
    "    if item.is_file():\n",
    "        filelist.append(item.name)\n",
    "        \n"
   ]
  },
  {
   "cell_type": "markdown",
   "metadata": {},
   "source": [
    "Creating a function that splits up the image "
   ]
  },
  {
   "cell_type": "code",
   "execution_count": 142,
   "metadata": {},
   "outputs": [],
   "source": [
    "def image_split(h1, h2, w1, w2, image):\n",
    "    new_image = image[h1:h2, w1:w2]\n",
    "\n",
    "    return(new_image)\n"
   ]
  },
  {
   "cell_type": "markdown",
   "metadata": {},
   "source": [
    "Creating a loop which slices images, saves them separately in a new folder and creates a data frame containing information about their properties (such as height, width and number of channels) "
   ]
  },
  {
   "cell_type": "code",
   "execution_count": 143,
   "metadata": {},
   "outputs": [
    {
     "ename": "error",
     "evalue": "OpenCV(4.5.1) /private/var/folders/nz/vv4_9tw56nv9k3tkvyszvwg80000gn/T/pip-req-build-qux1dpqc/opencv/modules/imgcodecs/src/loadsave.cpp:753: error: (-215:Assertion failed) !_img.empty() in function 'imwrite'\n",
     "output_type": "error",
     "traceback": [
      "\u001b[0;31m---------------------------------------------------------------------------\u001b[0m",
      "\u001b[0;31merror\u001b[0m                                     Traceback (most recent call last)",
      "\u001b[0;32m<ipython-input-143-d3cf3a6fe675>\u001b[0m in \u001b[0;36m<module>\u001b[0;34m\u001b[0m\n\u001b[1;32m     31\u001b[0m         \u001b[0;31m# save the split image\u001b[0m\u001b[0;34m\u001b[0m\u001b[0;34m\u001b[0m\u001b[0;34m\u001b[0m\u001b[0m\n\u001b[1;32m     32\u001b[0m         \u001b[0moutfile\u001b[0m \u001b[0;34m=\u001b[0m \u001b[0mos\u001b[0m\u001b[0;34m.\u001b[0m\u001b[0mpath\u001b[0m\u001b[0;34m.\u001b[0m\u001b[0mjoin\u001b[0m\u001b[0;34m(\u001b[0m\u001b[0;34m\"new_img\"\u001b[0m\u001b[0;34m,\u001b[0m \u001b[0mnew_filename\u001b[0m\u001b[0;34m)\u001b[0m \u001b[0;31m# joining filepath and new filename.\u001b[0m\u001b[0;34m\u001b[0m\u001b[0;34m\u001b[0m\u001b[0m\n\u001b[0;32m---> 33\u001b[0;31m         \u001b[0mcv2\u001b[0m\u001b[0;34m.\u001b[0m\u001b[0mimwrite\u001b[0m\u001b[0;34m(\u001b[0m\u001b[0moutfile\u001b[0m\u001b[0;34m,\u001b[0m \u001b[0mimg\u001b[0m\u001b[0;34m)\u001b[0m\u001b[0;34m\u001b[0m\u001b[0;34m\u001b[0m\u001b[0m\n\u001b[0m\u001b[1;32m     34\u001b[0m \u001b[0;34m\u001b[0m\u001b[0m\n\u001b[1;32m     35\u001b[0m         \u001b[0;31m# Save to dataframe\u001b[0m\u001b[0;34m\u001b[0m\u001b[0;34m\u001b[0m\u001b[0;34m\u001b[0m\u001b[0m\n",
      "\u001b[0;31merror\u001b[0m: OpenCV(4.5.1) /private/var/folders/nz/vv4_9tw56nv9k3tkvyszvwg80000gn/T/pip-req-build-qux1dpqc/opencv/modules/imgcodecs/src/loadsave.cpp:753: error: (-215:Assertion failed) !_img.empty() in function 'imwrite'\n"
     ]
    }
   ],
   "source": [
    "for filename in filelist:\n",
    "    \n",
    "    # Create a specific image path and import&read the image\n",
    "    img_path = os.path.join(data_path, filename)\n",
    "    image = cv2.imread(img_path)\n",
    "    \n",
    "    # Assign respective properties of the image to variables \n",
    "    height, width, channels = img.shape\n",
    "    \n",
    "    # New heights and widths (N.B. int() is neccessary here)\n",
    "    new_height = int(height/2)\n",
    "    new_width = int(width/2)\n",
    "    \n",
    "    # Creating split images\n",
    "    top_left = image_split(0,new_height,0,new_width,image)\n",
    "    top_right = image_split(0,new_height,new_width, width,image)\n",
    "    bottom_left = image_split(new_height,height,0, new_width,image)\n",
    "    bottom_right = image_split(new_height,height,new_width, width,image)\n",
    "\n",
    "    # collect the 4 image objects in a string\n",
    "    new_images = [top_left, top_right,bottom_left, bottom_right]\n",
    "    \n",
    "    # Loop over each of the 4 split images generated from one image, save them, and put them into to the dataframe\n",
    "    img_count = 1 \n",
    "    \n",
    "    for img in new_images:\n",
    "    \n",
    "        # Generate unique filename\n",
    "        new_filename = filename [:-4] + \"_slice\" + str(img_count) + \".jpg\"\n",
    "    \n",
    "        # save the split image\n",
    "        outfile = os.path.join(\"new_img\", new_filename) # joining filepath and new filename.\n",
    "        cv2.imwrite(outfile, img)\n",
    "    \n",
    "        # Save to dataframe\n",
    "        DATA = DATA.append({\n",
    "            'filename': new_filename,\n",
    "            'height': new_height,\n",
    "            'width': new_width\n",
    "            }, ignore_index=True) \n",
    "    \n",
    "        img_count = img_count + 1\n",
    "\n",
    "# Save the dataframe as a csv file\n",
    "DATA.to_csv(\"image_data.csv\")"
   ]
  }
 ],
 "metadata": {
  "kernelspec": {
   "display_name": "Python 3",
   "language": "python",
   "name": "python3"
  },
  "language_info": {
   "codemirror_mode": {
    "name": "ipython",
    "version": 3
   },
   "file_extension": ".py",
   "mimetype": "text/x-python",
   "name": "python",
   "nbconvert_exporter": "python",
   "pygments_lexer": "ipython3",
   "version": "3.8.3"
  }
 },
 "nbformat": 4,
 "nbformat_minor": 4
}
