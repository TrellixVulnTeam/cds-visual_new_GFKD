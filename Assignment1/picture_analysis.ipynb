{
 "cells": [
  {
   "cell_type": "markdown",
   "metadata": {},
   "source": [
    "## Visual analysis of pictures "
   ]
  },
  {
   "cell_type": "markdown",
   "metadata": {},
   "source": [
    "__Hanna Matera__\n"
   ]
  },
  {
   "cell_type": "markdown",
   "metadata": {},
   "source": [
    "Images are retrieved from the webpage: https://www.kaggle.com/prasunroy/natural-images\n"
   ]
  },
  {
   "cell_type": "markdown",
   "metadata": {},
   "source": [
    "Importing necessary packages"
   ]
  },
  {
   "cell_type": "code",
   "execution_count": 10,
   "metadata": {},
   "outputs": [],
   "source": [
    "import os\n",
    "import numpy as np # creating an abbreviation to save keystrokes\n",
    "import pandas as pd\n",
    "import cv2\n",
    "import numpy as np\n",
    "import matplotlib as mpl\n",
    "import matplotlib.pyplot as plt\n",
    "from pathlib import Path"
   ]
  },
  {
   "cell_type": "markdown",
   "metadata": {},
   "source": [
    "Installing opencv manually (as I ran into issues)"
   ]
  },
  {
   "cell_type": "code",
   "execution_count": 2,
   "metadata": {},
   "outputs": [
    {
     "name": "stdout",
     "output_type": "stream",
     "text": [
      "Defaulting to user installation because normal site-packages is not writeable\n",
      "Collecting opencv-python-headless\n",
      "  Downloading opencv_python_headless-4.5.1.48-cp36-cp36m-manylinux2014_x86_64.whl (37.6 MB)\n",
      "\u001b[K     |████████████████████████████████| 37.6 MB 3.0 MB/s eta 0:00:01��██████████████▍             | 21.6 MB 3.0 MB/s eta 0:00:06:00:04  | 31.9 MB 3.0 MB/s eta 0:00:02�██████████████▌| 37.0 MB 3.0 MB/s eta 0:00:01\n",
      "\u001b[?25hRequirement already satisfied: numpy>=1.13.3 in /usr/local/lib/python3.6/dist-packages (from opencv-python-headless) (1.19.4)\n",
      "Installing collected packages: opencv-python-headless\n",
      "Successfully installed opencv-python-headless-4.5.1.48\n",
      "\u001b[33mWARNING: You are using pip version 20.3.3; however, version 21.1.1 is available.\n",
      "You should consider upgrading via the '/usr/bin/python -m pip install --upgrade pip' command.\u001b[0m\n",
      "Note: you may need to restart the kernel to use updated packages.\n"
     ]
    }
   ],
   "source": [
    "pip install opencv-python-headless"
   ]
  },
  {
   "cell_type": "markdown",
   "metadata": {},
   "source": [
    "\n",
    "Defining a data frame where the results go, specifying data path from which images are retrieved and a lits of images from the folder "
   ]
  },
  {
   "cell_type": "code",
   "execution_count": 11,
   "metadata": {},
   "outputs": [],
   "source": [
    "#filepath \n",
    "data_path = os.path.join(\"data\")\n",
    "\n",
    "\n",
    "\n",
    "# define pandas with appropriate column names\n",
    "Columns = ['filename','width','height']           \n",
    "DATA = pd.DataFrame(columns = Columns)\n",
    "\n",
    "# Create a list of all filenames in the image folder.\n",
    "filelist = []\n",
    "basepath = Path(data_path)\n",
    "files_in_basepath = basepath.iterdir()\n",
    "for item in files_in_basepath:\n",
    "    if item.is_file():\n",
    "        filelist.append(item.name)\n",
    "\n",
    "        \n"
   ]
  },
  {
   "cell_type": "markdown",
   "metadata": {},
   "source": [
    "Creating a function that splits up the image "
   ]
  },
  {
   "cell_type": "code",
   "execution_count": 12,
   "metadata": {},
   "outputs": [],
   "source": [
    "def image_split(h1, h2, w1, w2, image):\n",
    "    new_image = image[h1:h2, w1:w2]\n",
    "\n",
    "    return(new_image)\n"
   ]
  },
  {
   "cell_type": "markdown",
   "metadata": {},
   "source": [
    "Creating a loop which slices images, saves them separately in a new folder and creates a data frame containing information about their properties (such as height, width and number of channels) "
   ]
  },
  {
   "cell_type": "code",
   "execution_count": 13,
   "metadata": {},
   "outputs": [],
   "source": [
    "for filename in filelist:\n",
    "    \n",
    "    # Create a specific image path and import&read the image\n",
    "    img_path = os.path.join(data_path, filename)\n",
    "    image = cv2.imread(img_path)\n",
    "    \n",
    "    # Assign respective properties of the image to variables \n",
    "    height, width, channels = image.shape\n",
    "    \n",
    "    # New heights and widths (N.B. int() is neccessary here)\n",
    "    new_height = int(height/2)\n",
    "    new_width = int(width/2)\n",
    "    \n",
    "    # Creating split images\n",
    "    top_left = image_split(0,new_height,0,new_width,image)\n",
    "    top_right = image_split(0,new_height,new_width, width,image)\n",
    "    bottom_left = image_split(new_height,height,0, new_width,image)\n",
    "    bottom_right = image_split(new_height,height,new_width, width,image)\n",
    "\n",
    "    # collect the 4 image objects in a string\n",
    "    new_images = [top_left, top_right,bottom_left, bottom_right]\n",
    "    \n",
    "    # Loop over each of the 4 split images generated from one image, save them, and put them into to the dataframe\n",
    "    img_count = 1 \n",
    "    \n",
    "    for img in new_images:\n",
    "    \n",
    "        # Generate unique filename\n",
    "        new_filename = filename [:-4] + \"_slice\" + str(img_count) + \".jpg\"\n",
    "    \n",
    "        # save the split image\n",
    "        outfile = os.path.join(\"new_img\", new_filename) # joining filepath and new filename.\n",
    "        cv2.imwrite(outfile, img)\n",
    "    \n",
    "        # Save to dataframe\n",
    "        DATA = DATA.append({\n",
    "            'filename': new_filename,\n",
    "            'height': new_height,\n",
    "            'width': new_width\n",
    "            }, ignore_index=True) \n",
    "    \n",
    "        img_count = img_count + 1\n",
    "\n",
    "# Save the dataframe as a csv file\n",
    "DATA.to_csv(\"image_data.csv\")"
   ]
  }
 ],
 "metadata": {
  "kernelspec": {
   "display_name": "Python 3",
   "language": "python",
   "name": "python3"
  },
  "language_info": {
   "codemirror_mode": {
    "name": "ipython",
    "version": 3
   },
   "file_extension": ".py",
   "mimetype": "text/x-python",
   "name": "python",
   "nbconvert_exporter": "python",
   "pygments_lexer": "ipython3",
   "version": "3.6.9"
  }
 },
 "nbformat": 4,
 "nbformat_minor": 4
}
